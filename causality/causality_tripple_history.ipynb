{
 "cells": [
  {
   "cell_type": "code",
   "execution_count": 2,
   "metadata": {
    "id": "01OtTS3tKMcu"
   },
   "outputs": [],
   "source": [
    "import time\n",
    "import random\n",
    "import collections\n",
    "import numpy as np\n",
    "from causality_functions import jitter, dependent, simulations_data\n",
    "from causality_functions import compute_regression, compute_correlation\n",
    "from causality_functions import add_confidence_stats, confidence_graphs\n",
    "from causality_functions import stats_graphs\n",
    "\n",
    "import altair as alt\n",
    "import pandas as pd\n",
    "import plotly.express as px\n",
    "alt.data_transformers.disable_max_rows()\n",
    "\n",
    "samplesize = 500\n",
    "Am, Bm, Cm, = 40, 10, 30\n",
    "Xm, Ym = 1, 1\n",
    "Astd,Bstd,Cstd = 5, 13, 12\n",
    "Xstd,Ystd = 1, 1\n",
    "\n",
    "m1, k1 = 1, 0\n",
    "m2, k2 = 1.5, 0\n",
    "m3, k3 = 0.15, 0 # this is feedback term\n",
    "m4, k4 = 0.75, 0.0\n",
    "\n",
    "dg = 0.1\n",
    "d1 = 1\n",
    "d2 = 1\n",
    "d3 = 1\n",
    "d4 = 1\n",
    "\n",
    "errorA = 2\n",
    "errorB = 4\n",
    "errorC = 3.5\n",
    "errorX = 0.75\n",
    "errorY = 0.6\n",
    "\n",
    "mrange1 = 0,5 #slope ranges\n",
    "mrange2 = 0,5\n",
    "mrange3 = 0,5\n",
    "mrange4 = 0,5\n",
    "\n",
    "erangeA = 0,1 #error range\n",
    "erangeB = 0.2,10 #error range\n",
    "erangeC = 0.2,10 #error range\n",
    "erangeX = 0.2,5 #error range\n",
    "erangeY = 0.2,5 #error range\n",
    "\n",
    "\n",
    "def linear_positive_C_to_B(n=100):\n",
    "\n",
    "    def next_generation(A):\n",
    "        A_ = jitter(A, errorA) # previous A + error\n",
    "        B_ = dependent(A_, m1, k1, error=errorB)\n",
    "        C_ = dependent(B_, m2, k2, error=errorC)\n",
    "        return A_, B_, C_\n",
    "\n",
    "    def next_generation_delayed(history):\n",
    "        A, _, _ = history[-1]\n",
    "        A_ = jitter(A, errorA) # previous A + error\n",
    "        A, _, _ = history[1 - d1]\n",
    "        _, _, C = history[1 - d3]\n",
    "        _, B, _ = history[-1]\n",
    "        B_ = jitter(B + A*m1 + C*m3 - B*m2 -dg*B + k1 ,  errorB)\n",
    "        _, B, _ = history[1 - d2]\n",
    "        _, _, C = history[-1]\n",
    "        C_ = jitter(C + B*m2 - dg*C + k2, errorC)\n",
    "        return A_, B_, C_\n",
    "\n",
    "    A = np.random.normal(loc=Am, scale=Astd) # normal distribution, Am - mean and Astd - standard deviation\n",
    "    history = collections.deque(maxlen=max([d1, d2, d3]))\n",
    "    for i in range(max([d1, d2, d3])):\n",
    "        history.append(next_generation(A))\n",
    "\n",
    "    for i in range(n):\n",
    "        history.append(next_generation_delayed(history))\n",
    "\n",
    "    return np.array(history[-1])\n",
    "\n",
    "\n",
    "def linear_positive_A_to_C(n=100):\n",
    "\n",
    "    def next_generation(A):\n",
    "        A_ = jitter(A, errorA) # previous A + error\n",
    "        B_ = dependent(A_, m1, k1, error=errorB)\n",
    "        C_ = dependent(B_, m2, k2, error=errorC)\n",
    "        return A_, B_, C_\n",
    "\n",
    "    def next_generation_delayed(history):\n",
    "        A, _, _ = history[-1]\n",
    "        A_ = jitter(A, errorA) # previous A + error\n",
    "        A, _, _ = history[1 - d1]\n",
    "        B_ = dependent(A, m1, k1 ,  errorB)\n",
    "        _, B, _ = history[1 - d2]\n",
    "        A, _, _ = history[1 - d1]\n",
    "        _, _, C = history[-1]\n",
    "        C_ = jitter(A*m3+ B*m2+ -dg*C + k2, errorC)\n",
    "        return A_, B_, C_\n",
    "\n",
    "    A = np.random.normal(loc=Am, scale=Astd) # normal distribution, Am - mean and Astd - standard deviation\n",
    "    history = collections.deque(maxlen=max([d1, d2, d3]))\n",
    "    for i in range(max([d1, d2, d3])):\n",
    "        history.append(next_generation(A))\n",
    "\n",
    "    for i in range(n):\n",
    "        history.append(next_generation_delayed(history))\n",
    "\n",
    "    return np.array(history[-1])\n",
    "\n",
    "def update_slopes_errors():\n",
    "    def select(lower, upper):\n",
    "        return lower + random.random()*(upper-lower)\n",
    "    \n",
    "    global m1, m2, m3, m4\n",
    "    global errorA, errorB, errorC, errorX, errorY\n",
    "\n",
    "    m1 = select(*mrange1)\n",
    "    m2 = select(*mrange2)\n",
    "    m3 = select(*mrange3)\n",
    "    m4 = select(*mrange4)\n",
    "    \n",
    "    errorA = select(*erangeA)\n",
    "    errorB = select(*erangeB)\n",
    "    errorC = select(*erangeC)\n",
    "    errorX = select(*erangeX)\n",
    "    errorY = select(*erangeY)\n",
    "    \n",
    "def overall_simulation(n=100):\n",
    "    stats = []\n",
    "    data = []\n",
    "    for i in range(n):\n",
    "        update_slopes_errors()\n",
    "        ABC = simulations_data(linear_positive_A_to_C, samplesize) # you can change pathway here\n",
    "        r = compute_regression(ABC)\n",
    "        r.update(compute_correlation(ABC))\n",
    "        stats.append(r)\n",
    "        data.append(ABC)\n",
    "    return pd.DataFrame(stats), np.array(data)\n",
    "\n",
    "d, ABC_all = overall_simulation()"
   ]
  },
  {
   "cell_type": "code",
   "execution_count": null,
   "metadata": {
    "colab": {
     "base_uri": "https://localhost:8080/",
     "height": 1000
    },
    "id": "oN05ZtnDKq3Z",
    "outputId": "f1a8f378-2587-4b38-9a15-07497c9efc2a"
   },
   "outputs": [],
   "source": [
    "add_confidence_stats(d, ABC_all)\n",
    "confidence_graphs(d)"
   ]
  },
  {
   "cell_type": "code",
   "execution_count": null,
   "metadata": {
    "colab": {
     "base_uri": "https://localhost:8080/",
     "height": 1000
    },
    "id": "oN05ZtnDKq3Z",
    "outputId": "f1a8f378-2587-4b38-9a15-07497c9efc2a"
   },
   "outputs": [],
   "source": [
    "stats_graphs(d)"
   ]
  },
  {
   "cell_type": "code",
   "execution_count": null,
   "metadata": {
    "colab": {
     "base_uri": "https://localhost:8080/",
     "height": 1000
    },
    "id": "04vwhtmSKuLQ",
    "outputId": "adb329da-879a-41e2-8e13-eee6ffb76a4d"
   },
   "outputs": [],
   "source": [
    "A, B, C = random.choice(ABC_all).transpose()\n",
    "AB = alt.Chart(pd.DataFrame({\"A\":A, \"B\":B})).mark_circle().encode(\n",
    "    x=\"A\",\n",
    "    y=\"B\")\n",
    "BC= alt.Chart(pd.DataFrame({\"B\":B, \"C\":C})).mark_circle().encode(\n",
    "    x=\"B\",\n",
    "    y=\"C\")\n",
    "AC = alt.Chart(pd.DataFrame({\"A\":A, \"C\":C})).mark_circle().encode(\n",
    "    x=\"A\",\n",
    "    y=\"C\")\n",
    "\n",
    "alt.vconcat(AB, BC, AC)"
   ]
  },
  {
   "cell_type": "code",
   "execution_count": null,
   "metadata": {
    "colab": {
     "base_uri": "https://localhost:8080/",
     "height": 461
    },
    "id": "wqd61wfJK1m6",
    "outputId": "c42da6e4-6995-4be0-da4a-e4c22d1d62e9"
   },
   "outputs": [],
   "source": [
    "d"
   ]
  },
  {
   "cell_type": "code",
   "execution_count": null,
   "metadata": {},
   "outputs": [],
   "source": []
  }
 ],
 "metadata": {
  "colab": {
   "provenance": []
  },
  "kernelspec": {
   "display_name": "Python 3 (ipykernel)",
   "language": "python",
   "name": "python3"
  },
  "language_info": {
   "codemirror_mode": {
    "name": "ipython",
    "version": 3
   },
   "file_extension": ".py",
   "mimetype": "text/x-python",
   "name": "python",
   "nbconvert_exporter": "python",
   "pygments_lexer": "ipython3",
   "version": "3.10.12"
  }
 },
 "nbformat": 4,
 "nbformat_minor": 4
}
